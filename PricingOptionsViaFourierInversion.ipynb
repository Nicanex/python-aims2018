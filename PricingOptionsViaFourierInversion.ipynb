{
 "cells": [
  {
   "cell_type": "code",
   "execution_count": 1,
   "metadata": {
    "collapsed": true
   },
   "outputs": [],
   "source": [
    "import numpy as np\n",
    "import numpy.polynomial.legendre as leg\n",
    "import scipy as sc\n",
    "from scipy.stats import norm\n",
    "from scipy import optimize as op\n",
    "import math\n",
    "import cmath\n",
    "import matplotlib.pyplot as plt"
   ]
  },
  {
   "cell_type": "markdown",
   "metadata": {},
   "source": [
    "# Pricing options via Fourier inversion"
   ]
  },
  {
   "cell_type": "markdown",
   "metadata": {},
   "source": [
    "This notebook is a companion to the lecture given as part of the 11th Summer School in Mathematical Finance on the 21st of February 2018 at the African Insitute for Mathematical Sciences. In several exercises in this notebook you will learn how to use Python to price options via Fourier inversion in both the Black-Scholes and the Variance Gamma model."
   ]
  },
  {
   "cell_type": "markdown",
   "metadata": {},
   "source": [
    "## Black-Scholes model"
   ]
  },
  {
   "cell_type": "markdown",
   "metadata": {},
   "source": [
    "First of all, we will define the Black-Scholes model. Each model in this notebook will have:\n",
    "* A forward, implemented by the forward property\n",
    "* A characteristic function, implemented by the char_func(u, maturity) function\n",
    "\n",
    "The characteristic function routine uses the cmath module for complex arithmetic."
   ]
  },
  {
   "cell_type": "code",
   "execution_count": 2,
   "metadata": {
    "collapsed": true
   },
   "outputs": [],
   "source": [
    "class BlackScholes:\n",
    "    def __init__(self, forward, vol):\n",
    "        self.forward = forward\n",
    "        self._log_forward = math.log(forward)\n",
    "        self.vol = vol\n",
    "\n",
    "    def char_func(self, u, maturity):\n",
    "        i = complex(0, 1)\n",
    "        return cmath.exp(i * u * self._log_forward - 0.5 * self.vol * self.vol * maturity * u * (u + i))\n",
    "    \n",
    "    def forward_opt(self, strike, maturity):\n",
    "        d1 = (math.log(self.forward / strike) + 0.5 * self.vol * self.vol * maturity) / (self.vol * math.sqrt(maturity))\n",
    "        d2 = d1 - self.vol * math.sqrt(maturity)\n",
    "        nd1 = norm.cdf(d1)\n",
    "        nd2 = norm.cdf(d2)\n",
    "        return self.forward * nd1 - strike * nd2"
   ]
  },
  {
   "cell_type": "markdown",
   "metadata": {},
   "source": [
    "In addition the Black-Scholes model has a forward_opt function, which calculates the undiscounted (i.e. forward) price of a call option in the Black-Scholes model, using the closed-form expression. We can use this to compare whether what we calculate makes sense."
   ]
  },
  {
   "cell_type": "markdown",
   "metadata": {},
   "source": [
    "Later on when we will be comparing prices, it can be useful to compare them in terms of implied volatilities. For this we will use the following very crude implementation (only to be used for demonstration purposes):"
   ]
  },
  {
   "cell_type": "code",
   "execution_count": 3,
   "metadata": {
    "collapsed": true
   },
   "outputs": [],
   "source": [
    "def implied_vol_bs(forward, strike, maturity, price):\n",
    "    func = lambda x: BlackScholes(forward, x).forward_opt(strike, maturity) - price\n",
    "    root = op.root(func, 0.2)\n",
    "    if root.success == False:\n",
    "        raise Exception('Could not calculate implied volatility for option with (F, K, T, price): (' + \\\n",
    "                        str(forward) + ', ' + str(strike) + ', ' + str(maturity) + ', ' + str(price) + ')')\n",
    "    return root.x[0]"
   ]
  },
  {
   "cell_type": "markdown",
   "metadata": {},
   "source": [
    "To check that it works - we will first calculate the price of a Black-Scholes call, when forward is equal to 100.0, strike is equal to 125.0, implied volatility is equal to 40% and the maturity equals 5 years."
   ]
  },
  {
   "cell_type": "code",
   "execution_count": 4,
   "metadata": {
    "collapsed": true
   },
   "outputs": [],
   "source": [
    "price = BlackScholes(forward=100.0, vol=0.4).forward_opt(strike=125.0,maturity=5.0)"
   ]
  },
  {
   "cell_type": "markdown",
   "metadata": {},
   "source": [
    "The implied volatility is 40%, as expected:"
   ]
  },
  {
   "cell_type": "code",
   "execution_count": 5,
   "metadata": {},
   "outputs": [
    {
     "data": {
      "text/plain": [
       "0.40000000000000013"
      ]
     },
     "execution_count": 5,
     "metadata": {},
     "output_type": "execute_result"
    }
   ],
   "source": [
    "implied_vol_bs(forward=100.0, strike=125.0, maturity=5.0, price=price)"
   ]
  },
  {
   "cell_type": "markdown",
   "metadata": {},
   "source": [
    "## Numerical integration"
   ]
  },
  {
   "cell_type": "markdown",
   "metadata": {},
   "source": [
    "For this notebook we have chosen Gauss-Legendre quadratures for demonstration purposes. With the following function one can integrate a function (func) over the interval [a, b], using n abscissae:"
   ]
  },
  {
   "cell_type": "code",
   "execution_count": 6,
   "metadata": {
    "collapsed": true
   },
   "outputs": [],
   "source": [
    "def gauss_legendre_integrate(func, n, a, b):\n",
    "    gauleg = leg.leggauss(n)\n",
    "    gauleg_x = (gauleg[0] + 1) / 2 * (b-a) + a\n",
    "    gauleg_w = gauleg[1] * (b-a)/2\n",
    "    gauleg_x_w = zip(gauleg_x, gauleg_w)\n",
    "    return sum(map(lambda x: func(x[0]) * x[1], gauleg_x_w))"
   ]
  },
  {
   "cell_type": "markdown",
   "metadata": {},
   "source": [
    "To demonstrate its usage - the Gaussian density function, integrated over [-10, 10] should roughly be equal to 1.0:"
   ]
  },
  {
   "cell_type": "code",
   "execution_count": 7,
   "metadata": {},
   "outputs": [
    {
     "data": {
      "text/plain": [
       "1.0000000000000002"
      ]
     },
     "execution_count": 7,
     "metadata": {},
     "output_type": "execute_result"
    }
   ],
   "source": [
    "gauss_legendre_integrate(lambda x: math.exp(-0.5 * x * x) / math.sqrt(2.0 * math.pi), 256, -10.0, 10.0)"
   ]
  },
  {
   "cell_type": "markdown",
   "metadata": {},
   "source": [
    "## First attempt at Fourier inversion - the Lévy / Gurland / Gil-Pelaez way"
   ]
  },
  {
   "cell_type": "markdown",
   "metadata": {},
   "source": [
    "As shown in the lecture, one can generalise the Black-Scholes formula to calculate a call option as F * N(d1) - K * N(d2) to classes of models where the characteristic function is known. The following routine calculates the option price in this way, and takes a model as an argument."
   ]
  },
  {
   "cell_type": "code",
   "execution_count": 8,
   "metadata": {
    "collapsed": true
   },
   "outputs": [],
   "source": [
    "def gil_pelaez_opt(model, strike, maturity, num_abscissae, integration_bound):\n",
    "    log_strike = math.log(strike)\n",
    "    i = complex(0, 1)\n",
    "    phi_minus_i = complex(0, 1) * model.char_func(-i, maturity)\n",
    "    s_func = lambda x: cmath.exp(-i * x * log_strike) * model.char_func(x - i, maturity) / (i * x * model.char_func(-i, maturity))\n",
    "    s_prob = 0.5 + 1.0 / math.pi * gauss_legendre_integrate(s_func, num_abscissae, 0, integration_bound).real\n",
    "    p_func = lambda x: cmath.exp(-i * x * log_strike) * model.char_func(x, maturity) / (i * x)\n",
    "    p_prob = 0.5 + 1.0 / math.pi * gauss_legendre_integrate(p_func, num_abscissae, 0, integration_bound).real\n",
    "    return model.forward * s_prob - strike * p_prob"
   ]
  },
  {
   "cell_type": "markdown",
   "metadata": {},
   "source": [
    "Ideally we would like to avoid having to specify either the number of abscissae or an upper integration bound - as discussed in the lecture, adaptive integration routines together with an integral transformation can be used for this purpose. However, that goes to demonstrate in this short notebook."
   ]
  },
  {
   "cell_type": "markdown",
   "metadata": {},
   "source": [
    "To demonstrate that the routine works, we will evaluate the Black-Scholes option price using both this approach, as well as the closed-form formula provided in the BlackScholes class."
   ]
  },
  {
   "cell_type": "code",
   "execution_count": 9,
   "metadata": {},
   "outputs": [
    {
     "name": "stdout",
     "output_type": "stream",
     "text": [
      "Gil-Pelaez price: 27.462675786461375\n",
      "Closed-form price: 27.462664357\n"
     ]
    }
   ],
   "source": [
    "gil_pelaez_price = str(gil_pelaez_opt(model=BlackScholes(100.0, 0.4),\n",
    "                                      strike=125.0, maturity=5.0, num_abscissae=128, integration_bound=1000.0))\n",
    "print(\"Gil-Pelaez price: \" + str(gil_pelaez_price))\n",
    "print(\"Closed-form price: \"  +str(price))"
   ]
  },
  {
   "cell_type": "markdown",
   "metadata": {},
   "source": [
    "## Exercise 1 - Fourier option pricing via Carr-Madan / Lewis formulation"
   ]
  },
  {
   "cell_type": "markdown",
   "metadata": {},
   "source": [
    "Now you have seen how to implement the Gil-Pelaez transform, the first exercise is to implement the Carr-Madan / Lewis option pricing formula as featured in the slides of the lecture. The residue needed to use the Carr-Madan formula for non-positive values of alpha is already implemented below:"
   ]
  },
  {
   "cell_type": "code",
   "execution_count": 10,
   "metadata": {
    "collapsed": true
   },
   "outputs": [],
   "source": [
    "def residue(alpha, forward, strike):\n",
    "    TOL = 2.2204460492503131e-16\n",
    "    if alpha < -1.0:\n",
    "        # Put\n",
    "        return forward - strike\n",
    "    if math.abs(alpha + 1.0) < TOL:\n",
    "        # Half-cash secured put\n",
    "        return forward - 0.5 * strike\n",
    "    if alpha > -1.0 and alpha < 0.0:\n",
    "        # Covered call\n",
    "        return forward\n",
    "    if math.abs(alpha) < TOL:\n",
    "        # Half-covered call\n",
    "        return 0.5 * forward\n",
    "    if alpha > 0.0:\n",
    "        # Call\n",
    "        return 0.0"
   ]
  },
  {
   "cell_type": "markdown",
   "metadata": {},
   "source": [
    "Please add the calculated price (or error in implied volatility if you want to change the metric) in the graph below. You can use an arbitrary choice of the damping factor alpha."
   ]
  },
  {
   "cell_type": "code",
   "execution_count": 11,
   "metadata": {},
   "outputs": [
    {
     "data": {
      "image/png": "[encoded data removed]",
      "text/plain": [
       "<matplotlib.figure.Figure at 0x2210599b4e0>"
      ]
     },
     "metadata": {},
     "output_type": "display_data"
    }
   ],
   "source": [
    "model = BlackScholes(100.0, 0.4)\n",
    "abscissae_list = [2, 4, 8, 16, 32, 64, 128, 256]\n",
    "\n",
    "gil_pelaez_prices = [gil_pelaez_opt(model=model,strike=125.0,maturity=5.0,num_abscissae=n,integration_bound=1000.0) for n in abscissae_list]\n",
    "bs_prices = [price for n in abscissae_list]\n",
    "plt.plot(abscissae_list, gil_pelaez_prices, label=\"Gil-Pelaez\")\n",
    "plt.plot(abscissae_list, bs_prices, label=\"Closed-form\")\n",
    "plt.legend(bbox_to_anchor=(1.05, 1), loc=2, borderaxespad=0.)\n",
    "plt.title(\"Comparing the Gil-Pelaez and Carr-Madan formula\")\n",
    "plt.show()"
   ]
  },
  {
   "cell_type": "markdown",
   "metadata": {},
   "source": [
    "## Variance Gamma model"
   ]
  },
  {
   "cell_type": "markdown",
   "metadata": {},
   "source": [
    "Before we move on to the next exercise, we will need the Variance Gamma model. Below we have introduced another model class that follows the same structure outlined before - the model has a char_func function that returns its characteristic function. Therefore we should be able to use it with all option prices introduced so far."
   ]
  },
  {
   "cell_type": "code",
   "execution_count": 12,
   "metadata": {
    "collapsed": true
   },
   "outputs": [],
   "source": [
    "class VarianceGamma:\n",
    "    def __init__(self, forward, theta, nu, sigma):\n",
    "        self.omega = 1.0 / nu * math.log(1.0 - theta * nu - 0.5 * sigma * sigma * nu)\n",
    "        self.forward = forward\n",
    "        self.theta = theta\n",
    "        self.nu = nu\n",
    "        self.sigma = sigma\n",
    "        \n",
    "    def char_func(self, u, maturity):\n",
    "        i = complex(0, 1)\n",
    "        ftilde = math.log(self.forward) + self.omega * maturity\n",
    "        tmp = self.theta + 0.5 * self.sigma * self.sigma * u * i\n",
    "        tmp2 = 1.0 - i * u * self.nu * tmp\n",
    "        tmp2 = cmath.log(tmp2)\n",
    "        return cmath.exp(i * u * ftilde - tmp2 * maturity / self.nu)"
   ]
  },
  {
   "cell_type": "markdown",
   "metadata": {},
   "source": [
    "## Exercise 2 - Compare impact of contour on pricing"
   ]
  },
  {
   "cell_type": "markdown",
   "metadata": {},
   "source": [
    "In this exercise you are asked to plot:\n",
    "* The pricing error as a function of alpha, for a number of choices for the number of abscissae (e.g. 8, 16, 32, 64)\n",
    "* The pricing error as a function of the number of absicssae, for Carr-Madan's alpha (0.75), Lewis' alpha (-0.5) as well as the payoff-independent one for the VG model"
   ]
  },
  {
   "cell_type": "markdown",
   "metadata": {},
   "source": [
    "The payoff-independent alpha / contour for the Variance Gamma model is given in the routine below:"
   ]
  },
  {
   "cell_type": "code",
   "execution_count": 13,
   "metadata": {
    "collapsed": true
   },
   "outputs": [],
   "source": [
    "def payoff_independent_alpha_VG(vgmodel, strike, maturity):\n",
    "    ftilde = math.log(vgmodel.forward) + vgmodel.omega * maturity\n",
    "    mtilde = ftilde - math.log(strike)\n",
    "    sigsq = vgmodel.sigma * vgmodel.sigma\n",
    "    tmp = -vgmodel.theta / sigsq - 1.0 + maturity / (vgmodel.nu * mtilde)\n",
    "    tmp2 = vgmodel.theta * vgmodel.theta / (sigsq * sigsq) + 2.0 / (vgmodel.nu * sigsq) + maturity * maturity / (vgmodel.nu * vgmodel.nu * mtilde * mtilde)\n",
    "    if mtilde > 0.0:\n",
    "        return tmp - math.sqrt(tmp2)\n",
    "    return tmp + math.sqrt(tmp2)"
   ]
  },
  {
   "cell_type": "markdown",
   "metadata": {},
   "source": [
    "Please use the following Variance Gamma model for this exercise:"
   ]
  },
  {
   "cell_type": "code",
   "execution_count": 14,
   "metadata": {
    "collapsed": true
   },
   "outputs": [],
   "source": [
    "vgmodel = VarianceGamma(forward=1.0, theta=-0.14, sigma=0.12, nu=0.2)"
   ]
  },
  {
   "cell_type": "markdown",
   "metadata": {},
   "source": [
    "The option price for a strike of 1.1 is equal to the following:"
   ]
  },
  {
   "cell_type": "code",
   "execution_count": 15,
   "metadata": {
    "collapsed": true
   },
   "outputs": [],
   "source": [
    "vg_exact_price = 0.00114886"
   ]
  },
  {
   "cell_type": "markdown",
   "metadata": {},
   "source": [
    "For the numerical integration you can use an upper bound of 400.0 for the above configuration."
   ]
  },
  {
   "cell_type": "markdown",
   "metadata": {},
   "source": [
    "## Exercise 3 - Contour vs control"
   ]
  },
  {
   "cell_type": "markdown",
   "metadata": {},
   "source": [
    "For those who have time left, please compare Joshi and Yang's control variate approach (using an alpha of 0.0) to the Carr-Madan / Lewis approach, using the payoff-independent alpha derived by Lord and Kahl."
   ]
  }
 ],
 "metadata": {
  "kernelspec": {
   "display_name": "Python 3",
   "language": "python",
   "name": "python3"
  },
  "language_info": {
   "codemirror_mode": {
    "name": "ipython",
    "version": 3
   },
   "file_extension": ".py",
   "mimetype": "text/x-python",
   "name": "python",
   "nbconvert_exporter": "python",
   "pygments_lexer": "ipython3",
   "version": "3.6.3"
  }
 },
 "nbformat": 4,
 "nbformat_minor": 2
}
